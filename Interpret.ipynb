{
 "cells": [
  {
   "cell_type": "code",
   "execution_count": 2,
   "metadata": {
    "collapsed": false
   },
   "outputs": [],
   "source": [
    "from datetime import datetime\n",
    "import matplotlib.pyplot as plt\n",
    "% matplotlib inline\n",
    "import statistics as stats\n",
    "\n",
    "\n",
    "SOfile = open(\"SnowyOwl.csv\", \"r\", errors=\"ignore\");\n",
    "AHfile = open(\"AnnasHummingbird.csv\", \"r\", errors=\"ignore\");\n",
    "BSfile = open(\"BlackSwift.csv\", \"r\", errors=\"ignore\");\n",
    "Bfile = open(\"Brambling.csv\", \"r\", errors=\"ignore\");\n",
    "HDfile = open(\"HarlequinDuck.csv\", \"r\", errors=\"ignore\");\n",
    "LBfile = open(\"LazuliBunting.csv\", \"r\", errors=\"ignore\");\n",
    "\n",
    "\n",
    "\n",
    "SOlist = [];\n",
    "AHlist = [];\n",
    "BSlist = [];\n",
    "Blist = [];\n",
    "HDlist = [];\n",
    "LBlist = [];\n",
    "\n",
    "SOdates = [];\n",
    "AHdates = [];\n",
    "BSdates = [];\n",
    "Bdates = [];\n",
    "HDdates = [];\n",
    "LBdates = [];\n",
    "\n",
    "SOnum = [];\n",
    "AHnum = [];\n",
    "BSnum = [];\n",
    "Bnum = [];\n",
    "HDnum = [];\n",
    "LBnum = [];\n",
    "\n",
    "\n",
    "\n",
    "for a in SOfile:\n",
    "    SOlist.append(a);\n",
    "del SOlist[0];\n",
    "\n",
    "for b in AHfile:\n",
    "    AHlist.append(b);\n",
    "del AHlist[0];\n",
    "\n",
    "for c in BSfile:\n",
    "    BSlist.append(c);\n",
    "del BSlist[0];\n",
    "\n",
    "for d in Bfile:\n",
    "    Blist.append(d);\n",
    "del Blist[0];\n",
    "\n",
    "for e in HDfile:\n",
    "    HDlist.append(e);\n",
    "del HDlist[0];\n",
    "\n",
    "for f in LBfile:\n",
    "    LBlist.append(f);\n",
    "del LBlist[0];\n",
    "\n",
    "\n",
    "\n",
    "for g in range(len(SOlist)):\n",
    "    SOlist[g] = SOlist[g].split(\",\");\n",
    "\n",
    "for h in range(len(AHlist)):\n",
    "    AHlist[h] = AHlist[h].split(\",\");\n",
    "\n",
    "for i in range(len(BSlist)):\n",
    "    BSlist[i] = BSlist[i].split(\",\");\n",
    "\n",
    "for j in range(len(Blist)):\n",
    "    Blist[j] = Blist[j].split(\",\");\n",
    "\n",
    "for k in range(len(HDlist)):\n",
    "    HDlist[k] = HDlist[k].split(\",\");\n",
    "\n",
    "for l in range(len(LBlist)):\n",
    "    LBlist[l] = LBlist[l].split(\",\");\n",
    "    \n",
    "    \n",
    "    \n",
    "for SO in range(len(SOlist)):\n",
    "    SOdates.append(SOlist[SO][22]);\n",
    "\n",
    "for AH in range(len(AHlist)):\n",
    "    AHdates.append(AHlist[AH][22]);    \n",
    "\n",
    "for BS in range(len(BSlist)):\n",
    "    BSdates.append(BSlist[BS][22]); \n",
    "    \n",
    "for B in range(len(Blist)):\n",
    "    Bdates.append(Blist[B][22]);\n",
    "    \n",
    "for HD in range(len(HDlist)):\n",
    "    HDdates.append(HDlist[HD][22]);\n",
    "    \n",
    "for LB in range(len(LBlist)):\n",
    "    LBdates.append(LBlist[LB][22]);\n",
    "\n",
    "\n",
    "    \n",
    "for SO in range(len(SOlist)):\n",
    "    if SOlist[SO][7] == \"x\" or SOlist[SO][7] == \"X\":\n",
    "        SOnum.append(int(0));\n",
    "    else:\n",
    "        SOnum.append(int(SOlist[SO][7]));\n",
    "        \n",
    "for AH in range(len(AHlist)):\n",
    "    if AHlist[AH][7] == \"x\" or AHlist[AH][7] == \"X\":\n",
    "        AHnum.append(int(0));\n",
    "    else:\n",
    "        AHnum.append(int(AHlist[AH][7]));\n",
    "\n",
    "for BS in range(len(BSlist)):\n",
    "    if BSlist[BS][7] == \"x\" or BSlist[BS][7] == \"X\":\n",
    "        BSnum.append(int(0));\n",
    "    else:\n",
    "        BSnum.append(int(BSlist[BS][7]));\n",
    "        \n",
    "for B in range(len(Blist)):\n",
    "    if Blist[B][7] == \"x\" or Blist[B][7] == \"X\":\n",
    "        Bnum.append(int(0));\n",
    "    else:\n",
    "        Bnum.append(int(Blist[B][7]));\n",
    "        \n",
    "for HD in range(len(HDlist)):\n",
    "    if HDlist[HD][7] == \"x\" or HDlist[HD][7] == \"X\":\n",
    "        HDnum.append(int(0));\n",
    "    else:\n",
    "        HDnum.append(int(HDlist[HD][7]));\n",
    "        \n",
    "for LB in range(len(LBlist)):\n",
    "    if LBlist[LB][7] == \"x\" or LBlist[LB][7] == \"X\":\n",
    "        LBnum.append(int(0));\n",
    "    else:\n",
    "        LBnum.append(int(LBlist[LB][7]));\n",
    "    \n",
    "    \n",
    "\n",
    "for g in range(len(SOdates)):\n",
    "    SOdates[g] = SOdates[g].split(\"/\");\n",
    "\n",
    "for h in range(len(AHdates)):\n",
    "    AHdates[h] = AHdates[h].split(\"/\");\n",
    "\n",
    "for i in range(len(BSdates)):\n",
    "    BSdates[i] = BSdates[i].split(\"/\");\n",
    "\n",
    "for j in range(len(Bdates)):\n",
    "    Bdates[j] = Bdates[j].split(\"/\");\n",
    "\n",
    "for k in range(len(HDdates)):\n",
    "    HDdates[k] = HDdates[k].split(\"/\");\n",
    "\n",
    "for l in range(len(LBdates)):\n",
    "    LBdates[l] = LBdates[l].split(\"/\");\n",
    "        \n",
    "    \n",
    "    \n",
    "#following code copied from http://stackoverflow.com/questions/4039879/best-way-to-find-the-months-between-two-dates\n",
    "#written by user John La Rooy\n",
    "def diff_month(d1, d2):\n",
    "    return ((d1.year - d2.year)*12 + d1.month - d2.month)*(-1);\n",
    "\n",
    "assert diff_month(datetime(2010,10,1), datetime(2010,9,1)) == -1\n",
    "assert diff_month(datetime(2010,10,1), datetime(2009,10,1)) == -12\n",
    "assert diff_month(datetime(2010,10,1), datetime(2009,11,1)) == -11\n",
    "assert diff_month(datetime(2010,10,1), datetime(2009,8,1)) == -14\n",
    "\n",
    "def listmdiff(data, num):\n",
    "    stdatadates = [0] * len(data);\n",
    "    mtemp = 0;\n",
    "    dtemp = 0;\n",
    "    ytemp = 0;\n",
    "    placetemp = 1;\n",
    "    vartemp = 0;\n",
    "    retlistnum = [];\n",
    "    retlistval = [];\n",
    "    \n",
    "    for calc in range(len(data)):\n",
    "        if mtemp == 0 and data[calc][0] == data[calc][0]:\n",
    "            mtemp = int(data[calc][0]);\n",
    "        if dtemp == 0 and data[calc][0] == data[calc][0]:\n",
    "            dtemp = int(data[calc][1]);\n",
    "        if ytemp == 0 and data[calc][2] == data[calc][2]:\n",
    "            ytemp = int(data[calc][2]);\n",
    "        stdatadates[calc] = 1 + diff_month(datetime(ytemp,mtemp,dtemp), datetime(int(data[calc][2]), int(data[calc][0]), int(data[calc][1])));\n",
    "    for add in range(len(stdatadates)):\n",
    "        if stdatadates[add] == placetemp:\n",
    "            vartemp = num[add] + vartemp;\n",
    "        else:\n",
    "            retlistnum.append(vartemp);\n",
    "            retlistval.append(placetemp);\n",
    "            placetemp += 1;\n",
    "            vartemp = 0;\n",
    "    return(stdatadates, retlistnum, retlistval);\n",
    "    \n",
    "stSO, retnumSO, retvalSO = listmdiff(SOdates, SOnum);\n",
    "stAH, retnumAH, retvalAH = listmdiff(AHdates, AHnum);\n",
    "stBS, retnumBS, retvalBS = listmdiff(BSdates, BSnum);\n",
    "stB, retnumB, retvalB = listmdiff(Bdates, Bnum);\n",
    "stHD, retnumHD, retvalHD = listmdiff(HDdates, HDnum);\n",
    "stLB, retnumLB, retvalLB = listmdiff(LBdates, LBnum);"
   ]
  },
  {
   "cell_type": "markdown",
   "metadata": {},
   "source": [
    "This lab examined some different bird species in the state of Washington, and what the sightings of these birds in the area tell us about their migration and population patterns. Each of the below graphs represent one bird species, how many times they were spotted from 2009-2016. "
   ]
  },
  {
   "cell_type": "code",
   "execution_count": 3,
   "metadata": {
    "collapsed": false
   },
   "outputs": [
    {
     "data": {
      "image/png": "[encoded data removed]",
      "text/plain": [
       "<matplotlib.figure.Figure at 0x219c22df588>"
      ]
     },
     "metadata": {},
     "output_type": "display_data"
    }
   ],
   "source": [
    "plt.figure(figsize=(15,5));\n",
    "plt.xlabel(\"Month number\")\n",
    "plt.ylabel(\"Number of birds seen\")\n",
    "plt.bar(retvalSO, retnumSO);"
   ]
  },
  {
   "cell_type": "code",
   "execution_count": 4,
   "metadata": {
    "collapsed": false
   },
   "outputs": [
    {
     "data": {
      "image/png": "[encoded data removed]",
      "text/plain": [
       "<matplotlib.figure.Figure at 0x219c8c0d6d8>"
      ]
     },
     "metadata": {},
     "output_type": "display_data"
    }
   ],
   "source": [
    "plt.figure(figsize=(15,5));\n",
    "plt.xlabel(\"Month number\")\n",
    "plt.ylabel(\"Number of birds seen\")\n",
    "plt.bar(retvalAH, retnumAH);"
   ]
  },
  {
   "cell_type": "code",
   "execution_count": 5,
   "metadata": {
    "collapsed": false
   },
   "outputs": [
    {
     "data": {
      "image/png": "[encoded data removed]",
      "text/plain": [
       "<matplotlib.figure.Figure at 0x219c8d9bda0>"
      ]
     },
     "metadata": {},
     "output_type": "display_data"
    }
   ],
   "source": [
    "plt.figure(figsize=(15,5));\n",
    "plt.xlabel(\"Month number\")\n",
    "plt.ylabel(\"Number of birds seen\")\n",
    "plt.bar(retvalBS, retnumBS);"
   ]
  },
  {
   "cell_type": "code",
   "execution_count": 8,
   "metadata": {
    "collapsed": false
   },
   "outputs": [
    {
     "data": {
      "image/png": "[encoded data removed]",
      "text/plain": [
       "<matplotlib.figure.Figure at 0x219c952ab38>"
      ]
     },
     "metadata": {},
     "output_type": "display_data"
    }
   ],
   "source": [
    "plt.xlabel(\"Month number\")\n",
    "plt.ylabel(\"Number of birds seen\")\n",
    "plt.bar(retvalB, retnumB);"
   ]
  },
  {
   "cell_type": "code",
   "execution_count": 6,
   "metadata": {
    "collapsed": false
   },
   "outputs": [
    {
     "data": {
      "image/png": "[encoded data removed]",
      "text/plain": [
       "<matplotlib.figure.Figure at 0x20c61124390>"
      ]
     },
     "metadata": {},
     "output_type": "display_data"
    }
   ],
   "source": [
    "plt.figure(figsize=(15,5));\n",
    "plt.xlabel(\"Month number\")\n",
    "plt.ylabel(\"Number of birds seen\")\n",
    "plt.bar(retvalHD, retnumHD);"
   ]
  },
  {
   "cell_type": "code",
   "execution_count": 7,
   "metadata": {
    "collapsed": false
   },
   "outputs": [
    {
     "data": {
      "image/png": "[encoded data removed]",
      "text/plain": [
       "<matplotlib.figure.Figure at 0x219c9849c50>"
      ]
     },
     "metadata": {},
     "output_type": "display_data"
    }
   ],
   "source": [
    "plt.figure(figsize=(15,5));\n",
    "plt.xlabel(\"Month number\")\n",
    "plt.ylabel(\"Number of birds seen\")\n",
    "plt.bar(retvalLB, retnumLB);"
   ]
  },
  {
   "cell_type": "code",
   "execution_count": null,
   "metadata": {
    "collapsed": true
   },
   "outputs": [],
   "source": []
  }
 ],
 "metadata": {
  "anaconda-cloud": {},
  "kernelspec": {
   "display_name": "Python [Root]",
   "language": "python",
   "name": "Python [Root]"
  },
  "language_info": {
   "codemirror_mode": {
    "name": "ipython",
    "version": 3
   },
   "file_extension": ".py",
   "mimetype": "text/x-python",
   "name": "python",
   "nbconvert_exporter": "python",
   "pygments_lexer": "ipython3",
   "version": "3.5.2"
  }
 },
 "nbformat": 4,
 "nbformat_minor": 0
}
